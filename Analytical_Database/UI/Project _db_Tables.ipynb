{
 "cells": [
  {
   "cell_type": "code",
   "execution_count": 2,
   "id": "1d661757",
   "metadata": {},
   "outputs": [],
   "source": [
    "import csv\n",
    "from DATA225utils import make_connection"
   ]
  },
  {
   "cell_type": "code",
   "execution_count": 3,
   "id": "5c0dce84",
   "metadata": {},
   "outputs": [],
   "source": [
    "conn = make_connection(config_file = 'techorcas_db.ini')\n",
    "cursor = conn.cursor()"
   ]
  },
  {
   "cell_type": "markdown",
   "id": "5eb9f4b1",
   "metadata": {},
   "source": [
    "# Orders Table"
   ]
  },
  {
   "cell_type": "code",
   "execution_count": 17,
   "id": "2dcbf82d",
   "metadata": {},
   "outputs": [],
   "source": [
    "#Dropping orders_table  if already exists.\n",
    "cursor.execute(\"DROP TABLE IF EXISTS orders_table\")"
   ]
  },
  {
   "cell_type": "code",
   "execution_count": 18,
   "id": "c05a6ebc",
   "metadata": {},
   "outputs": [],
   "source": [
    "# create orders_table  \n",
    "sql ='''\n",
    "\n",
    "CREATE TABLE orders_table(\n",
    "    OrderID VARCHAR(50) NOT NULL,\n",
    "    SKU VARCHAR(50) NOT NULL,\n",
    "    Date VARCHAR(50),\n",
    "    Status VARCHAR(50),\n",
    "    Fulfilment VARCHAR(50),\n",
    "    SalesChannel VARCHAR(50),\n",
    "    Qty VARCHAR(50),\n",
    "    Amount FLOAT,\n",
    "    StaffID VARCHAR(20),\n",
    "    is_status_changed BOOLEAN,\n",
    "    PRIMARY KEY (OrderID,SKU)\n",
    "\n",
    "          )''' \n",
    "cursor.execute(sql)"
   ]
  },
  {
   "cell_type": "code",
   "execution_count": 19,
   "id": "46779275",
   "metadata": {},
   "outputs": [],
   "source": [
    "#cleaning the data\n",
    "def transform(row):\n",
    "    if row[1] == 'NA':\n",
    "        row[1] = 0\n",
    "    # Ensure is_status_changed is an integer (0 or 1)\n",
    "    # Assuming is_status_changed is the last column in the row\n",
    "    if row[-1] == '':  # If the value is an empty string, set a default value\n",
    "        row[-1] = 0\n",
    "    else:\n",
    "        row[-1] = int(row[-1])  # Convert to integer (ensure this is '0' or '1' in your CSV)"
   ]
  },
  {
   "cell_type": "code",
   "execution_count": 20,
   "id": "0cea326b",
   "metadata": {},
   "outputs": [],
   "source": [
    "#Insert vales into orders_table table\n",
    "sql = ( \"\"\"\n",
    "        INSERT INTO orders_table\n",
    "        VALUES (%s, %s, %s, %s, %s, %s, %s, %s, %s, %s )\n",
    "        \"\"\"\n",
    "      )"
   ]
  },
  {
   "cell_type": "code",
   "execution_count": 21,
   "id": "cddb2ae3",
   "metadata": {},
   "outputs": [],
   "source": [
    "import csv\n",
    "first = True\n",
    "i = 0\n",
    "\n",
    "with open(r'orders_table.csv', newline='') as csv_file:\n",
    "    data = csv.reader(csv_file, delimiter=',', quotechar='\"')\n",
    "    \n",
    "    for row in data:\n",
    "        if not first:\n",
    "            transform(row)\n",
    "            cursor.execute(sql, row)\n",
    "\n",
    "            \n",
    "        first = False\n",
    "    \n",
    "conn.commit()"
   ]
  },
  {
   "cell_type": "markdown",
   "id": "10f7a9f6",
   "metadata": {},
   "source": [
    "# Products Table"
   ]
  },
  {
   "cell_type": "code",
   "execution_count": 11,
   "id": "a852d89d",
   "metadata": {},
   "outputs": [],
   "source": [
    "#Dropping products_table  if already exists.\n",
    "cursor.execute(\"DROP TABLE IF EXISTS products_table\")"
   ]
  },
  {
   "cell_type": "code",
   "execution_count": 12,
   "id": "2aeff408",
   "metadata": {},
   "outputs": [],
   "source": [
    "# create products_table  \n",
    "sql ='''\n",
    "\n",
    "CREATE TABLE products_table(\n",
    "    SKU VARCHAR(50) NOT NULL,\n",
    "    Style VARCHAR(50),\n",
    "    Category VARCHAR(50),\n",
    "    Size VARCHAR(50),\n",
    "    Color VARCHAR(50),\n",
    "    Inventory DOUBLE,\n",
    "    PRIMARY KEY (SKU)\n",
    "\n",
    "          )''' \n",
    "cursor.execute(sql)"
   ]
  },
  {
   "cell_type": "code",
   "execution_count": 13,
   "id": "bb0999de",
   "metadata": {},
   "outputs": [],
   "source": [
    "#cleaning the data\n",
    "def transform(row):\n",
    "    if row[1] == 'NA':\n",
    "        row[1] = 0"
   ]
  },
  {
   "cell_type": "code",
   "execution_count": 14,
   "id": "ddccbe1f",
   "metadata": {},
   "outputs": [],
   "source": [
    "#Insert vales into products_table table\n",
    "sql = ( \"\"\"\n",
    "        INSERT INTO products_table\n",
    "        VALUES (%s, %s, %s, %s, %s, %s )\n",
    "        \"\"\"\n",
    "      )"
   ]
  },
  {
   "cell_type": "code",
   "execution_count": 15,
   "id": "e84fb1b2",
   "metadata": {},
   "outputs": [],
   "source": [
    "import csv\n",
    "first = True\n",
    "i = 0\n",
    "\n",
    "with open(r'products_table.csv', newline='') as csv_file:\n",
    "    data = csv.reader(csv_file, delimiter=',', quotechar='\"')\n",
    "    \n",
    "    for row in data:\n",
    "        if not first:\n",
    "            transform(row)\n",
    "            cursor.execute(sql, row)\n",
    "\n",
    "            \n",
    "        first = False\n",
    "    \n",
    "conn.commit()"
   ]
  },
  {
   "cell_type": "markdown",
   "id": "288ed629",
   "metadata": {},
   "source": [
    "# promotions_table"
   ]
  },
  {
   "cell_type": "code",
   "execution_count": 16,
   "id": "05c5c0d4",
   "metadata": {},
   "outputs": [],
   "source": [
    "#Dropping promotions_table  if already exists.\n",
    "cursor.execute(\"DROP TABLE IF EXISTS promotions_table\")"
   ]
  },
  {
   "cell_type": "code",
   "execution_count": 17,
   "id": "561bd306",
   "metadata": {},
   "outputs": [],
   "source": [
    "# create promotions_table  \n",
    "sql ='''\n",
    "\n",
    "CREATE TABLE promotions_table(\n",
    "    OrderID VARCHAR(50) NOT NULL,\n",
    "    promotion_ids VARCHAR(3000),\n",
    "    PRIMARY KEY (OrderID)\n",
    "\n",
    "          )''' \n",
    "cursor.execute(sql)"
   ]
  },
  {
   "cell_type": "code",
   "execution_count": 18,
   "id": "ec1f409a",
   "metadata": {},
   "outputs": [],
   "source": [
    "#cleaning the data\n",
    "def transform(row):\n",
    "    if row[1] == 'NA':\n",
    "        row[1] = 0"
   ]
  },
  {
   "cell_type": "code",
   "execution_count": 19,
   "id": "ba334408",
   "metadata": {},
   "outputs": [],
   "source": [
    "#Insert vales into promotions_table table\n",
    "sql = ( \"\"\"\n",
    "        INSERT INTO promotions_table\n",
    "        VALUES (%s, %s )\n",
    "        \"\"\"\n",
    "      )"
   ]
  },
  {
   "cell_type": "code",
   "execution_count": 20,
   "id": "cc801a5b",
   "metadata": {},
   "outputs": [],
   "source": [
    "import csv\n",
    "first = True\n",
    "i = 0\n",
    "\n",
    "with open(r'promotions_table.csv', newline='') as csv_file:\n",
    "    data = csv.reader(csv_file, delimiter=',', quotechar='\"')\n",
    "    \n",
    "    for row in data:\n",
    "        if not first:\n",
    "            transform(row)\n",
    "            cursor.execute(sql, row)\n",
    "\n",
    "            \n",
    "        first = False\n",
    "    \n",
    "conn.commit()"
   ]
  },
  {
   "cell_type": "markdown",
   "id": "f80fcb3a",
   "metadata": {},
   "source": [
    "# shipping_information Table"
   ]
  },
  {
   "cell_type": "code",
   "execution_count": 21,
   "id": "fe2c2570",
   "metadata": {},
   "outputs": [],
   "source": [
    "#Dropping shipping_information_table  if already exists.\n",
    "cursor.execute(\"DROP TABLE IF EXISTS shipping_information_table\")"
   ]
  },
  {
   "cell_type": "code",
   "execution_count": 22,
   "id": "8297456b",
   "metadata": {},
   "outputs": [],
   "source": [
    "# create shipping_information_table  \n",
    "sql ='''\n",
    "\n",
    "CREATE TABLE shipping_information_table(\n",
    "    OrderID VARCHAR(50) NOT NULL,\n",
    "    ship_service_level VARCHAR(50),\n",
    "    ship_city VARCHAR(50),\n",
    "    ship_state VARCHAR(50),\n",
    "    ship_postal_code VARCHAR(50),\n",
    "    ship_country VARCHAR(50),\n",
    "    PRIMARY KEY (OrderID)\n",
    "\n",
    "          )''' \n",
    "cursor.execute(sql)"
   ]
  },
  {
   "cell_type": "code",
   "execution_count": 23,
   "id": "c146dc67",
   "metadata": {},
   "outputs": [],
   "source": [
    "#cleaning the data\n",
    "def transform(row):\n",
    "    if row[1] == 'NA':\n",
    "        row[1] = 0"
   ]
  },
  {
   "cell_type": "code",
   "execution_count": 24,
   "id": "d72ab246",
   "metadata": {},
   "outputs": [],
   "source": [
    "#Insert vales into shipping_information table\n",
    "sql = ( \"\"\"\n",
    "        INSERT INTO shipping_information_table\n",
    "        VALUES (%s, %s, %s, %s, %s, %s )\n",
    "        \"\"\"\n",
    "      )"
   ]
  },
  {
   "cell_type": "code",
   "execution_count": 25,
   "id": "c80a0690",
   "metadata": {},
   "outputs": [],
   "source": [
    "import csv\n",
    "first = True\n",
    "i = 0\n",
    "\n",
    "with open(r'shipping_information_table.csv', newline='') as csv_file:\n",
    "    data = csv.reader(csv_file, delimiter=',', quotechar='\"')\n",
    "    \n",
    "    for row in data:\n",
    "        if not first:\n",
    "            transform(row)\n",
    "            cursor.execute(sql, row)\n",
    "\n",
    "            \n",
    "        first = False\n",
    "    \n",
    "conn.commit()"
   ]
  },
  {
   "cell_type": "markdown",
   "id": "867061bc",
   "metadata": {},
   "source": [
    "# customers_table"
   ]
  },
  {
   "cell_type": "code",
   "execution_count": 26,
   "id": "e426a230",
   "metadata": {},
   "outputs": [],
   "source": [
    "#Dropping customers_table  if already exists.\n",
    "cursor.execute(\"DROP TABLE IF EXISTS customers_table\")"
   ]
  },
  {
   "cell_type": "code",
   "execution_count": 27,
   "id": "664e5b25",
   "metadata": {},
   "outputs": [],
   "source": [
    "# create customers_table  \n",
    "sql ='''\n",
    "\n",
    "CREATE TABLE customers_table(\n",
    "    OrderID VARCHAR(50) NOT NULL,\n",
    "    Customer_name VARCHAR(50),\n",
    "    Email VARCHAR(200) NOT NULL,\n",
    "    Password VARCHAR(200),\n",
    "    PhoneNumber VARCHAR(25),\n",
    "    Rating VARCHAR(20),\n",
    "    Feedback VARCHAR(3000),\n",
    "    PRIMARY KEY (OrderID,Email)\n",
    "\n",
    "          )''' \n",
    "cursor.execute(sql)"
   ]
  },
  {
   "cell_type": "code",
   "execution_count": 28,
   "id": "0c90424a",
   "metadata": {},
   "outputs": [],
   "source": [
    "#cleaning the data\n",
    "def transform(row):\n",
    "    if row[1] == 'NA':\n",
    "        row[1] = 0"
   ]
  },
  {
   "cell_type": "code",
   "execution_count": 29,
   "id": "340e3e96",
   "metadata": {},
   "outputs": [],
   "source": [
    "#Insert vales into customers_table table\n",
    "sql = ( \"\"\"\n",
    "        INSERT INTO customers_table\n",
    "        VALUES (%s, %s, %s, %s, %s, %s, %s )\n",
    "        \"\"\"\n",
    "      )"
   ]
  },
  {
   "cell_type": "code",
   "execution_count": 30,
   "id": "acb89096",
   "metadata": {},
   "outputs": [],
   "source": [
    "import csv\n",
    "first = True\n",
    "i = 0\n",
    "\n",
    "with open(r'customers_table.csv', newline='') as csv_file:\n",
    "    data = csv.reader(csv_file, delimiter=',', quotechar='\"')\n",
    "    \n",
    "    for row in data:\n",
    "        if not first:\n",
    "            transform(row)\n",
    "            cursor.execute(sql, row)\n",
    "\n",
    "            \n",
    "        first = False\n",
    "    \n",
    "conn.commit()"
   ]
  },
  {
   "cell_type": "markdown",
   "id": "0015ba02",
   "metadata": {},
   "source": [
    "# orders_product_table"
   ]
  },
  {
   "cell_type": "code",
   "execution_count": 22,
   "id": "526a3607",
   "metadata": {},
   "outputs": [],
   "source": [
    "#Dropping orders_product_table  if already exists.\n",
    "cursor.execute(\"DROP TABLE IF EXISTS orders_product_table\")"
   ]
  },
  {
   "cell_type": "code",
   "execution_count": 23,
   "id": "9cb92f3d",
   "metadata": {},
   "outputs": [],
   "source": [
    "# create orders_product_table  \n",
    "sql ='''\n",
    "\n",
    "CREATE TABLE orders_product_table(\n",
    "    OrderID VARCHAR(50) NOT NULL,\n",
    "    SKU VARCHAR(50) NOT NULL,\n",
    "    PRIMARY KEY (OrderID,SKU),\n",
    "    FOREIGN KEY (OrderID) REFERENCES orders_table(OrderID),\n",
    "    FOREIGN KEY (SKU) REFERENCES products_table(SKU)\n",
    "\n",
    "          )''' \n",
    "cursor.execute(sql)"
   ]
  },
  {
   "cell_type": "code",
   "execution_count": 24,
   "id": "e0aa643f",
   "metadata": {},
   "outputs": [],
   "source": [
    "#cleaning the data\n",
    "def transform(row):\n",
    "    if row[1] == 'NA':\n",
    "        row[1] = 0"
   ]
  },
  {
   "cell_type": "code",
   "execution_count": 25,
   "id": "0e1db9b4",
   "metadata": {},
   "outputs": [],
   "source": [
    "#Insert vales into orders_product_table table\n",
    "sql = ( \"\"\"\n",
    "        INSERT INTO orders_product_table\n",
    "        VALUES (%s, %s )\n",
    "        \"\"\"\n",
    "      )"
   ]
  },
  {
   "cell_type": "code",
   "execution_count": 26,
   "id": "25e24922",
   "metadata": {},
   "outputs": [],
   "source": [
    "import csv\n",
    "first = True\n",
    "i = 0\n",
    "\n",
    "with open(r'orders_product_table.csv', newline='') as csv_file:\n",
    "    data = csv.reader(csv_file, delimiter=',', quotechar='\"')\n",
    "    \n",
    "    for row in data:\n",
    "        if not first:\n",
    "            transform(row)\n",
    "            cursor.execute(sql, row)\n",
    "\n",
    "            \n",
    "        first = False\n",
    "    \n",
    "conn.commit()"
   ]
  },
  {
   "cell_type": "markdown",
   "id": "679a3436",
   "metadata": {},
   "source": [
    "# Staff_table"
   ]
  },
  {
   "cell_type": "code",
   "execution_count": 63,
   "id": "149b418e",
   "metadata": {},
   "outputs": [],
   "source": [
    "#Dropping Staff_table  if already exists.\n",
    "cursor.execute(\"DROP TABLE IF EXISTS Staff_table\")"
   ]
  },
  {
   "cell_type": "code",
   "execution_count": 64,
   "id": "795728bc",
   "metadata": {},
   "outputs": [],
   "source": [
    "# create Staff_table  \n",
    "sql ='''\n",
    "\n",
    "CREATE TABLE Staff_table(\n",
    "    StaffID VARCHAR(20) NOT NULL,\n",
    "    Staff_Email VARCHAR(50),\n",
    "    Password VARCHAR(500),\n",
    "    PRIMARY KEY (StaffID)\n",
    "\n",
    "          )''' \n",
    "cursor.execute(sql)"
   ]
  },
  {
   "cell_type": "code",
   "execution_count": 65,
   "id": "b4a2ad24",
   "metadata": {},
   "outputs": [],
   "source": [
    "#cleaning the data\n",
    "def transform(row):\n",
    "    if row[1] == 'NA':\n",
    "        row[1] = 0"
   ]
  },
  {
   "cell_type": "code",
   "execution_count": 66,
   "id": "bbe6c0e2",
   "metadata": {},
   "outputs": [],
   "source": [
    "#Insert vales into Staff_table table\n",
    "sql = ( \"\"\"\n",
    "        INSERT INTO Staff_table\n",
    "        VALUES (%s, %s, %s )\n",
    "        \"\"\"\n",
    "      )"
   ]
  },
  {
   "cell_type": "code",
   "execution_count": 67,
   "id": "395db10b",
   "metadata": {},
   "outputs": [],
   "source": [
    "import csv\n",
    "first = True\n",
    "i = 0\n",
    "\n",
    "with open(r'Staff_table.csv', newline='') as csv_file:\n",
    "    data = csv.reader(csv_file, delimiter=',', quotechar='\"')\n",
    "    \n",
    "    for row in data:\n",
    "        if not first:\n",
    "            transform(row)\n",
    "            cursor.execute(sql, row)\n",
    "\n",
    "            \n",
    "        first = False\n",
    "    \n",
    "conn.commit()"
   ]
  },
  {
   "cell_type": "code",
   "execution_count": null,
   "id": "7df7975f",
   "metadata": {},
   "outputs": [],
   "source": []
  },
  {
   "cell_type": "code",
   "execution_count": null,
   "id": "a954fd1e",
   "metadata": {},
   "outputs": [],
   "source": []
  },
  {
   "cell_type": "code",
   "execution_count": null,
   "id": "126bd50e",
   "metadata": {},
   "outputs": [],
   "source": []
  }
 ],
 "metadata": {
  "kernelspec": {
   "display_name": "Python 3 (ipykernel)",
   "language": "python",
   "name": "python3"
  },
  "language_info": {
   "codemirror_mode": {
    "name": "ipython",
    "version": 3
   },
   "file_extension": ".py",
   "mimetype": "text/x-python",
   "name": "python",
   "nbconvert_exporter": "python",
   "pygments_lexer": "ipython3",
   "version": "3.11.4"
  }
 },
 "nbformat": 4,
 "nbformat_minor": 5
}
