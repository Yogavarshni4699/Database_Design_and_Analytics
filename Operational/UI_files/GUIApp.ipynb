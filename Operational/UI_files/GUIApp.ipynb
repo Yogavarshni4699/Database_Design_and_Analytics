{
 "cells": [
  {
   "cell_type": "code",
   "execution_count": 1,
   "id": "92d53d6a-c56f-48cd-8dd4-e0dcb9243ff4",
   "metadata": {
    "scrolled": true
   },
   "outputs": [
    {
     "ename": "TypeError",
     "evalue": "TitanicWindowCustomer.__init__() missing 1 required positional argument: 'email'",
     "output_type": "error",
     "traceback": [
      "\u001b[1;31m---------------------------------------------------------------------------\u001b[0m",
      "\u001b[1;31mTypeError\u001b[0m                                 Traceback (most recent call last)",
      "Cell \u001b[1;32mIn[1], line 7\u001b[0m\n\u001b[0;32m      4\u001b[0m \u001b[38;5;28;01mfrom\u001b[39;00m \u001b[38;5;21;01mAppWindow\u001b[39;00m \u001b[38;5;28;01mimport\u001b[39;00m AppWindow\n\u001b[0;32m      6\u001b[0m app \u001b[38;5;241m=\u001b[39m QApplication(sys\u001b[38;5;241m.\u001b[39margv)\n\u001b[1;32m----> 7\u001b[0m form \u001b[38;5;241m=\u001b[39m AppWindow()\n\u001b[0;32m      8\u001b[0m app\u001b[38;5;241m.\u001b[39mexec_()\n",
      "File \u001b[1;32m~\\data225\\update_project\\AppWindow.py:17\u001b[0m, in \u001b[0;36mAppWindow.__init__\u001b[1;34m(self)\u001b[0m\n\u001b[0;32m     14\u001b[0m \u001b[38;5;28msuper\u001b[39m()\u001b[38;5;241m.\u001b[39m\u001b[38;5;21m__init__\u001b[39m()\n\u001b[0;32m     16\u001b[0m \u001b[38;5;66;03m# Student dialog.\u001b[39;00m\n\u001b[1;32m---> 17\u001b[0m \u001b[38;5;28mself\u001b[39m\u001b[38;5;241m.\u001b[39m_student_dialog \u001b[38;5;241m=\u001b[39m TitanicWindowCustomer()\n\u001b[0;32m     18\u001b[0m \u001b[38;5;28mself\u001b[39m\u001b[38;5;241m.\u001b[39m_student_dialog\u001b[38;5;241m.\u001b[39mshow_dialog()\n",
      "\u001b[1;31mTypeError\u001b[0m: TitanicWindowCustomer.__init__() missing 1 required positional argument: 'email'"
     ]
    }
   ],
   "source": [
    "import sys\n",
    "\n",
    "from PyQt5.QtWidgets import QApplication\n",
    "from AppWindow import AppWindow\n",
    "\n",
    "app = QApplication(sys.argv)\n",
    "form = AppWindow()\n",
    "app.exec_()"
   ]
  },
  {
   "cell_type": "code",
   "execution_count": 1,
   "id": "12cacc43-7ebe-4369-b9d6-d4e11faee324",
   "metadata": {},
   "outputs": [
    {
     "name": "stdout",
     "output_type": "stream",
     "text": [
      "Requirement already satisfied: PyQt5 in c:\\users\\venkatachalam n\\appdata\\local\\programs\\python\\python311\\lib\\site-packages (5.15.9)Note: you may need to restart the kernel to use updated packages.\n",
      "\n",
      "Requirement already satisfied: PyQtChart in c:\\users\\venkatachalam n\\appdata\\local\\programs\\python\\python311\\lib\\site-packages (5.15.6)\n",
      "Requirement already satisfied: PyQt5-sip<13,>=12.11 in c:\\users\\venkatachalam n\\appdata\\local\\programs\\python\\python311\\lib\\site-packages (from PyQt5) (12.12.2)\n",
      "Requirement already satisfied: PyQt5-Qt5>=5.15.2 in c:\\users\\venkatachalam n\\appdata\\local\\programs\\python\\python311\\lib\\site-packages (from PyQt5) (5.15.2)\n",
      "Requirement already satisfied: PyQtChart-Qt5>=5.15.0 in c:\\users\\venkatachalam n\\appdata\\local\\programs\\python\\python311\\lib\\site-packages (from PyQtChart) (5.15.2)\n"
     ]
    },
    {
     "name": "stderr",
     "output_type": "stream",
     "text": [
      "\n",
      "[notice] A new release of pip is available: 23.1.2 -> 23.3.1\n",
      "[notice] To update, run: C:\\Users\\VENKATACHALAM N\\AppData\\Local\\Programs\\Python\\Python311\\python.exe -m pip install --upgrade pip\n"
     ]
    }
   ],
   "source": [
    "pip install PyQt5 PyQtChart\n"
   ]
  },
  {
   "cell_type": "code",
   "execution_count": null,
   "id": "22df0f40-7417-48d7-a76c-38196afaf0b2",
   "metadata": {},
   "outputs": [],
   "source": []
  },
  {
   "cell_type": "code",
   "execution_count": null,
   "id": "bac169c7-0347-42ce-ac33-2d9403bd06de",
   "metadata": {},
   "outputs": [],
   "source": []
  }
 ],
 "metadata": {
  "kernelspec": {
   "display_name": "Python 3 (ipykernel)",
   "language": "python",
   "name": "python3"
  },
  "language_info": {
   "codemirror_mode": {
    "name": "ipython",
    "version": 3
   },
   "file_extension": ".py",
   "mimetype": "text/x-python",
   "name": "python",
   "nbconvert_exporter": "python",
   "pygments_lexer": "ipython3",
   "version": "3.11.4"
  }
 },
 "nbformat": 4,
 "nbformat_minor": 5
}
