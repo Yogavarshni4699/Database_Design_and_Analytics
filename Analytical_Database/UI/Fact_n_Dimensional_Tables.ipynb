{
 "cells": [
  {
   "cell_type": "code",
   "execution_count": 44,
   "id": "09c59dd6",
   "metadata": {},
   "outputs": [],
   "source": [
    "from pandas import DataFrame\n",
    "from DATA225utils import make_connection, dataframe_query"
   ]
  },
  {
   "cell_type": "code",
   "execution_count": 45,
   "id": "ae965715",
   "metadata": {},
   "outputs": [],
   "source": [
    "def make_table(table, sql):\n",
    "    cursor.execute(f\"DROP TABLE IF EXISTS {table}\")\n",
    "    cursor.execute(sql)"
   ]
  },
  {
   "cell_type": "code",
   "execution_count": 46,
   "id": "6477bb94",
   "metadata": {},
   "outputs": [],
   "source": [
    "def display_table(table, order_by=''):\n",
    "    sql = f\"SELECT * FROM {table}\"\n",
    "    \n",
    "    if order_by != '':\n",
    "        sql = sql + \" ORDER BY \" + order_by\n",
    "        \n",
    "    _, df = dataframe_query(cursor, sql)    \n",
    "    return df"
   ]
  },
  {
   "cell_type": "code",
   "execution_count": 47,
   "id": "16452c06",
   "metadata": {},
   "outputs": [],
   "source": [
    "conn = make_connection(config_file = 'Analytical_db.ini')\n",
    "cursor = conn.cursor()"
   ]
  },
  {
   "cell_type": "code",
   "execution_count": 41,
   "id": "7ff982f3",
   "metadata": {},
   "outputs": [
    {
     "ename": "Exception",
     "evalue": "Configuration file 'techorcas_wh.ini' doesn't exist.",
     "output_type": "error",
     "traceback": [
      "\u001b[1;31m---------------------------------------------------------------------------\u001b[0m",
      "\u001b[1;31mException\u001b[0m                                 Traceback (most recent call last)",
      "Cell \u001b[1;32mIn[41], line 1\u001b[0m\n\u001b[1;32m----> 1\u001b[0m conn_warehouse \u001b[38;5;241m=\u001b[39m \u001b[43mmake_connection\u001b[49m\u001b[43m(\u001b[49m\u001b[43mconfig_file\u001b[49m\u001b[43m \u001b[49m\u001b[38;5;241;43m=\u001b[39;49m\u001b[43m \u001b[49m\u001b[38;5;124;43m'\u001b[39;49m\u001b[38;5;124;43mtechorcas_wh.ini\u001b[39;49m\u001b[38;5;124;43m'\u001b[39;49m\u001b[43m)\u001b[49m\n\u001b[0;32m      2\u001b[0m cursor_warehouse \u001b[38;5;241m=\u001b[39m conn_warehouse\u001b[38;5;241m.\u001b[39mcursor()\n",
      "File \u001b[1;32m~\\Downloads\\Final_DBMS\\Gana_csv\\DATA225utils.py:47\u001b[0m, in \u001b[0;36mmake_connection\u001b[1;34m(config_file, section)\u001b[0m\n\u001b[0;32m     41\u001b[0m \u001b[38;5;250m\u001b[39m\u001b[38;5;124;03m\"\"\"\u001b[39;00m\n\u001b[0;32m     42\u001b[0m \u001b[38;5;124;03mMake a database connection with the configuration file config_file\u001b[39;00m\n\u001b[0;32m     43\u001b[0m \u001b[38;5;124;03mwith the given section. If successful, return the connection,\u001b[39;00m\n\u001b[0;32m     44\u001b[0m \u001b[38;5;124;03melse raise an exception.\u001b[39;00m\n\u001b[0;32m     45\u001b[0m \u001b[38;5;124;03m\"\"\"\u001b[39;00m\n\u001b[0;32m     46\u001b[0m \u001b[38;5;28;01mtry\u001b[39;00m:\n\u001b[1;32m---> 47\u001b[0m     db_config \u001b[38;5;241m=\u001b[39m \u001b[43mread_config\u001b[49m\u001b[43m(\u001b[49m\u001b[43mconfig_file\u001b[49m\u001b[43m,\u001b[49m\u001b[43m \u001b[49m\u001b[43msection\u001b[49m\u001b[43m)\u001b[49m\n\u001b[0;32m     48\u001b[0m     conn \u001b[38;5;241m=\u001b[39m MySQLConnection(\u001b[38;5;241m*\u001b[39m\u001b[38;5;241m*\u001b[39mdb_config)\n\u001b[0;32m     50\u001b[0m     \u001b[38;5;28;01mif\u001b[39;00m conn\u001b[38;5;241m.\u001b[39mis_connected():\n",
      "File \u001b[1;32m~\\Downloads\\Final_DBMS\\Gana_csv\\DATA225utils.py:21\u001b[0m, in \u001b[0;36mread_config\u001b[1;34m(config_file, section)\u001b[0m\n\u001b[0;32m     19\u001b[0m     parser\u001b[38;5;241m.\u001b[39mread(config_file)\n\u001b[0;32m     20\u001b[0m \u001b[38;5;28;01melse\u001b[39;00m:\n\u001b[1;32m---> 21\u001b[0m     \u001b[38;5;28;01mraise\u001b[39;00m \u001b[38;5;167;01mException\u001b[39;00m(\u001b[38;5;124mf\u001b[39m\u001b[38;5;124m\"\u001b[39m\u001b[38;5;124mConfiguration file \u001b[39m\u001b[38;5;124m'\u001b[39m\u001b[38;5;132;01m{\u001b[39;00mconfig_file\u001b[38;5;132;01m}\u001b[39;00m\u001b[38;5;124m'\u001b[39m\u001b[38;5;124m \u001b[39m\u001b[38;5;124m\"\u001b[39m\n\u001b[0;32m     22\u001b[0m                     \u001b[38;5;124m\"\u001b[39m\u001b[38;5;124mdoesn\u001b[39m\u001b[38;5;124m'\u001b[39m\u001b[38;5;124mt exist.\u001b[39m\u001b[38;5;124m\"\u001b[39m)\n\u001b[0;32m     24\u001b[0m config \u001b[38;5;241m=\u001b[39m {}\n\u001b[0;32m     26\u001b[0m \u001b[38;5;28;01mif\u001b[39;00m parser\u001b[38;5;241m.\u001b[39mhas_section(section):\n\u001b[0;32m     27\u001b[0m     \u001b[38;5;66;03m# Parse the configuration file.\u001b[39;00m\n",
      "\u001b[1;31mException\u001b[0m: Configuration file 'techorcas_wh.ini' doesn't exist."
     ]
    }
   ],
   "source": [
    "conn_warehouse = make_connection(config_file = 'techorcas_wh.ini')\n",
    "cursor_warehouse = conn_warehouse.cursor()"
   ]
  },
  {
   "cell_type": "markdown",
   "id": "57126e8b",
   "metadata": {},
   "source": [
    "## Date Dimension Table"
   ]
  },
  {
   "cell_type": "code",
   "execution_count": 69,
   "id": "3d57db90-8401-448f-9960-c8cd2c1d148d",
   "metadata": {},
   "outputs": [],
   "source": [
    "#Dropping Churn_Customers table if already exists.\n",
    "cursor.execute(\"DROP TABLE IF EXISTS Date_Dimension\")"
   ]
  },
  {
   "cell_type": "code",
   "execution_count": 70,
   "id": "21d1a258",
   "metadata": {},
   "outputs": [],
   "source": [
    "sql = ( \"\"\"\n",
    "        CREATE TABLE Date_Dimension\n",
    "        (   \n",
    "           \n",
    "            Date DATE ,\n",
    "            Day varchar(10),\n",
    "            Month varchar(10),\n",
    "            Year int,\n",
    "            Quarter varchar(10),\n",
    "            PRIMARY KEY (DATE)\n",
    "        )\n",
    "        \"\"\"\n",
    "      )\n",
    "\n",
    "cursor.execute(sql)"
   ]
  },
  {
   "cell_type": "code",
   "execution_count": 71,
   "id": "4d819b87",
   "metadata": {},
   "outputs": [],
   "source": [
    "#Insert vales into Churn_Customers\n",
    "sql = ( \"\"\"\n",
    "        INSERT INTO Date_Dimension\n",
    "        VALUES (%s, %s, %s, %s, %s )\n",
    "        \"\"\"\n",
    "      )"
   ]
  },
  {
   "cell_type": "code",
   "execution_count": 72,
   "id": "d58ac402-a897-4a55-a530-de1ae6fadd72",
   "metadata": {},
   "outputs": [],
   "source": [
    "def transform(row):\n",
    "    if row[1] == 'NA':\n",
    "        row[1] = 0\n"
   ]
  },
  {
   "cell_type": "code",
   "execution_count": 73,
   "id": "7324858b-686e-4262-b662-24a4716ac28a",
   "metadata": {},
   "outputs": [],
   "source": [
    "import csv\n",
    "first = True\n",
    "i = 0\n",
    "\n",
    "with open(r'Date_Dimension_Table.csv', newline='') as csv_file:\n",
    "    data = csv.reader(csv_file, delimiter=',', quotechar='\"')\n",
    "    \n",
    "    for row in data:\n",
    "        if not first:\n",
    "            transform(row)\n",
    "            cursor.execute(sql, row)\n",
    "\n",
    "            \n",
    "        first = False\n",
    "    \n",
    "conn.commit()"
   ]
  },
  {
   "cell_type": "code",
   "execution_count": null,
   "id": "6120ae25-2b36-429a-afa5-0a9f62d9d1d4",
   "metadata": {},
   "outputs": [],
   "source": []
  },
  {
   "cell_type": "markdown",
   "id": "20d99db2",
   "metadata": {},
   "source": [
    "## Product Dimension Table"
   ]
  },
  {
   "cell_type": "code",
   "execution_count": 74,
   "id": "f18a9b42-251a-4864-b749-aeaab3fe70ea",
   "metadata": {},
   "outputs": [],
   "source": [
    "#Dropping Churn_Customers table if already exists.\n",
    "cursor.execute(\"DROP TABLE IF EXISTS Product_Dimension\")"
   ]
  },
  {
   "cell_type": "code",
   "execution_count": 75,
   "id": "7223592d",
   "metadata": {},
   "outputs": [],
   "source": [
    "sql = ( \"\"\"\n",
    "        CREATE TABLE Product_Dimension\n",
    "        (   \n",
    "            SKU VARCHAR(150),\n",
    "            Style  VARCHAR(50),\n",
    "            color VARCHAR(50),\n",
    "            category VARCHAR(50),\n",
    "            size VARCHAR(10),\n",
    "            PRIMARY KEY (SKU)\n",
    "        )\n",
    "        \"\"\"\n",
    "      )\n",
    "\n",
    "make_table('Product_Dimension', sql)"
   ]
  },
  {
   "cell_type": "code",
   "execution_count": 76,
   "id": "80b4ff8c",
   "metadata": {},
   "outputs": [],
   "source": [
    "#Insert vales into Churn_Customers\n",
    "sql = ( \"\"\"\n",
    "        INSERT INTO Product_Dimension\n",
    "        VALUES (%s, %s, %s, %s, %s )\n",
    "        \"\"\"\n",
    "      )"
   ]
  },
  {
   "cell_type": "code",
   "execution_count": 77,
   "id": "5b23128c-493b-43e5-928a-7a979952ba86",
   "metadata": {},
   "outputs": [],
   "source": [
    "import csv\n",
    "first = True\n",
    "i = 0\n",
    "\n",
    "with open(r'Product_Dimensional_Table.csv', newline='') as csv_file:\n",
    "    data = csv.reader(csv_file, delimiter=',', quotechar='\"')\n",
    "    \n",
    "    for row in data:\n",
    "        if not first:\n",
    "            transform(row)\n",
    "            cursor.execute(sql, row)\n",
    "\n",
    "            \n",
    "        first = False\n",
    "    \n",
    "conn.commit()"
   ]
  },
  {
   "cell_type": "markdown",
   "id": "b3a92fe6",
   "metadata": {},
   "source": [
    "# \tLocation Dimension Table"
   ]
  },
  {
   "cell_type": "code",
   "execution_count": 78,
   "id": "0463ee57-cc4b-467d-9550-c1309d6541f2",
   "metadata": {},
   "outputs": [],
   "source": [
    "#Dropping Churn_Customers table if already exists.\n",
    "cursor.execute(\"DROP TABLE IF EXISTS Location_Dimension_Table\")"
   ]
  },
  {
   "cell_type": "code",
   "execution_count": 79,
   "id": "027d1795",
   "metadata": {},
   "outputs": [],
   "source": [
    "sql = ( \"\"\"\n",
    "        CREATE TABLE Location_Dimension_Table\n",
    "        (   \n",
    "            ship_postal_code int,\n",
    "            ship_country VARCHAR(50),\n",
    "            ship_state VARCHAR(50),\n",
    "            ship_city VARCHAR(50),\n",
    "            PRIMARY KEY (ship_postal_code)\n",
    "        )\n",
    "        \"\"\"\n",
    "      )\n",
    "\n",
    "make_table('Location_Dimension_Table', sql)\n"
   ]
  },
  {
   "cell_type": "code",
   "execution_count": 80,
   "id": "7443f8b8",
   "metadata": {},
   "outputs": [],
   "source": [
    "#Insert vales into Churn_Customers\n",
    "sql = ( \"\"\"\n",
    "        INSERT INTO Location_Dimension_Table\n",
    "        VALUES (%s, %s, %s, %s )\n",
    "        \"\"\"\n",
    "      )"
   ]
  },
  {
   "cell_type": "code",
   "execution_count": 81,
   "id": "326b3e6f-da13-4ae9-89d1-af69dd85f398",
   "metadata": {},
   "outputs": [],
   "source": [
    "import csv\n",
    "first = True\n",
    "i = 0\n",
    "\n",
    "with open(r'Location_Dimension_Table.csv', newline='') as csv_file:\n",
    "    data = csv.reader(csv_file, delimiter=',', quotechar='\"')\n",
    "    \n",
    "    for row in data:\n",
    "        if not first:\n",
    "            transform(row)\n",
    "            cursor.execute(sql, row)\n",
    "\n",
    "            \n",
    "        first = False\n",
    "    \n",
    "conn.commit()"
   ]
  },
  {
   "cell_type": "markdown",
   "id": "a1f98e17",
   "metadata": {},
   "source": [
    "## \tFulfilment Dimension Table"
   ]
  },
  {
   "cell_type": "code",
   "execution_count": 82,
   "id": "cb7aa595-a662-4856-8bbe-c3974c9adeb9",
   "metadata": {},
   "outputs": [],
   "source": [
    "#Dropping Churn_Customers table if already exists.\n",
    "cursor.execute(\"DROP TABLE IF EXISTS Fulfilment_Dimension_Table\")"
   ]
  },
  {
   "cell_type": "code",
   "execution_count": 83,
   "id": "810a07ea",
   "metadata": {},
   "outputs": [],
   "source": [
    "sql = ( \"\"\"\n",
    "        CREATE TABLE Fulfilment_Dimension_Table\n",
    "        (   \n",
    "Order_ID VARCHAR(150),\n",
    "ship_service_level VARCHAR(150),\n",
    "fulfilled_by VARCHAR(150),\n",
    "Sales_Channel VARCHAR(150),\n",
    "Fulfilment VARCHAR(150),\n",
    "promotion_ids VARCHAR(3000),\n",
    "Courier_Status VARCHAR(150),\n",
    "status VARCHAR(150),\n",
    "\n",
    "            PRIMARY KEY (Order_ID)\n",
    "        )\n",
    "        \"\"\"\n",
    "      )\n",
    "\n",
    "make_table('Fulfilment_Dimension_Table', sql)\n"
   ]
  },
  {
   "cell_type": "code",
   "execution_count": 84,
   "id": "779f0a4e",
   "metadata": {},
   "outputs": [],
   "source": [
    "#Insert vales into Churn_Customers\n",
    "sql = ( \"\"\"\n",
    "        INSERT INTO Fulfilment_Dimension_Table\n",
    "        VALUES (%s, %s, %s, %s , %s, %s, %s, %s)\n",
    "        \"\"\"\n",
    "      )"
   ]
  },
  {
   "cell_type": "code",
   "execution_count": 85,
   "id": "5c75acd0-7b88-459a-b4af-0a4e6f8957bc",
   "metadata": {},
   "outputs": [],
   "source": [
    "import csv\n",
    "first = True\n",
    "i = 0\n",
    "\n",
    "with open(r'Fulfilment_Dimension_Table - Copy.csv', newline='') as csv_file:\n",
    "    data = csv.reader(csv_file, delimiter=',', quotechar='\"')\n",
    "    \n",
    "    for row in data:\n",
    "        if not first:\n",
    "            transform(row)\n",
    "            cursor.execute(sql, row)\n",
    "\n",
    "            \n",
    "        first = False\n",
    "    \n",
    "conn.commit()"
   ]
  },
  {
   "cell_type": "markdown",
   "id": "0d16fd81-8e7c-4d20-96ec-4e832033b607",
   "metadata": {},
   "source": [
    "## Sales Fact Table"
   ]
  },
  {
   "cell_type": "code",
   "execution_count": 94,
   "id": "9bdaa10b-551d-49dc-9a77-d3fe781287e6",
   "metadata": {},
   "outputs": [],
   "source": [
    "#Dropping Churn_Customers table if already exists.\n",
    "cursor.execute(\"DROP TABLE IF EXISTS Sales_Fact_Table\")"
   ]
  },
  {
   "cell_type": "code",
   "execution_count": 95,
   "id": "453ce608-b9fa-4273-b404-f7c9a4b30057",
   "metadata": {},
   "outputs": [],
   "source": [
    "sql = ( \"\"\"\n",
    "        CREATE TABLE Sales_Fact_Table\n",
    "        (   \n",
    "Order_ID VARCHAR(150),\n",
    "SKU VARCHAR(150),\n",
    "Date DATE ,\n",
    "Amount int,\n",
    "B2B VARCHAR(50),\n",
    "Inventory int NULL,\n",
    "PRIMARY KEY (Order_ID,sku)\n",
    "        )\n",
    "        \"\"\"\n",
    "      )\n",
    "\n",
    "make_table('Sales_Fact_Table', sql)\n"
   ]
  },
  {
   "cell_type": "code",
   "execution_count": 96,
   "id": "a1b1ddd9-4c31-4227-a71b-2114c91981b4",
   "metadata": {},
   "outputs": [],
   "source": [
    "#Insert vales into Churn_Customers\n",
    "sql = ( \"\"\"\n",
    "        INSERT INTO Sales_Fact_Table\n",
    "        VALUES (%s, %s, %s, %s , %s, %s)\n",
    "        \"\"\"\n",
    "      )"
   ]
  },
  {
   "cell_type": "code",
   "execution_count": 97,
   "id": "5374f19e-ee77-4e18-8eb8-48d1af23b848",
   "metadata": {},
   "outputs": [],
   "source": [
    "import csv\n",
    "first = True\n",
    "i = 0\n",
    "\n",
    "with open(r'Sales_Fact_Table.csv', newline='') as csv_file:\n",
    "    data = csv.reader(csv_file, delimiter=',', quotechar='\"')\n",
    "    \n",
    "    for row in data:\n",
    "        if not first:\n",
    "            transform(row)\n",
    "            cursor.execute(sql, row)\n",
    "\n",
    "            \n",
    "        first = False\n",
    "    \n",
    "conn.commit()"
   ]
  },
  {
   "cell_type": "markdown",
   "id": "09e4b50b-822c-48ea-bb21-ed6dc5f449df",
   "metadata": {},
   "source": [
    "## Shipping_Fact_Table"
   ]
  },
  {
   "cell_type": "code",
   "execution_count": 98,
   "id": "0aada367-0c5c-43f6-89dd-d647abf2b5ac",
   "metadata": {},
   "outputs": [],
   "source": [
    "\n",
    "#Dropping Churn_Customers table if already exists.\n",
    "cursor.execute(\"DROP TABLE IF EXISTS Shipping_Fact_Table\")"
   ]
  },
  {
   "cell_type": "code",
   "execution_count": 99,
   "id": "99879016-54ad-45ae-9326-81a86a17eb15",
   "metadata": {},
   "outputs": [],
   "source": [
    "sql = ( \"\"\"\n",
    "        CREATE TABLE Shipping_Fact_Table\n",
    "        (   \n",
    "Order_ID VARCHAR(150),\t\n",
    "ship_postal_code int,\t\n",
    "Quantity int,\n",
    "\n",
    "PRIMARY KEY (Order_ID)\n",
    "        )\n",
    "        \"\"\"\n",
    "      )\n",
    "\n",
    "make_table('Shipping_Fact_Table', sql)\n"
   ]
  },
  {
   "cell_type": "code",
   "execution_count": 100,
   "id": "e54c072e-7597-4ebd-b450-2057c616ca35",
   "metadata": {},
   "outputs": [],
   "source": [
    "#Insert vales into Churn_Customers\n",
    "sql = ( \"\"\"\n",
    "        INSERT INTO Shipping_Fact_Table\n",
    "        VALUES (%s, %s, %s)\n",
    "        \"\"\"\n",
    "      )"
   ]
  },
  {
   "cell_type": "code",
   "execution_count": 101,
   "id": "a9c73f8c-0aac-40c2-bef6-da5d9bfed5a2",
   "metadata": {},
   "outputs": [],
   "source": [
    "import csv\n",
    "first = True\n",
    "i = 0\n",
    "\n",
    "with open(r'Shipping_Fact_Table.csv', newline='') as csv_file:\n",
    "    data = csv.reader(csv_file, delimiter=',', quotechar='\"')\n",
    "    \n",
    "    for row in data:\n",
    "        if not first:\n",
    "            transform(row)\n",
    "            cursor.execute(sql, row)\n",
    "\n",
    "            \n",
    "        first = False\n",
    "    \n",
    "conn.commit()"
   ]
  },
  {
   "cell_type": "markdown",
   "id": "d46e34f2-c8d2-448d-be54-2912361f104e",
   "metadata": {},
   "source": [
    "## Queries"
   ]
  },
  {
   "cell_type": "code",
   "execution_count": 102,
   "id": "87d1be22-246f-40a8-a1f0-9616c74f4061",
   "metadata": {},
   "outputs": [],
   "source": [
    "import mysql.connector\n",
    "import pandas as pd"
   ]
  },
  {
   "cell_type": "markdown",
   "id": "63396b1b-9095-4e6b-8123-3e64c92dd04b",
   "metadata": {},
   "source": [
    "#### Query 1"
   ]
  },
  {
   "cell_type": "code",
   "execution_count": 103,
   "id": "bdaf0356-af87-461f-be5e-fb6f216382a7",
   "metadata": {},
   "outputs": [
    {
     "name": "stderr",
     "output_type": "stream",
     "text": [
      "C:\\Users\\VENKATACHALAM N\\AppData\\Local\\Temp\\ipykernel_17728\\76162046.py:1: UserWarning: pandas only supports SQLAlchemy connectable (engine/connection) or database string URI or sqlite3 DBAPI2 connection. Other DBAPI2 objects are not tested. Please consider using SQLAlchemy.\n",
      "  myresult = pd.read_sql('SELECT s.SKU, P.style, P.color, s.amount FROM Sales_Fact_Table s JOIN Product_Dimension P ON s.SKU = P.SKU',conn)\n"
     ]
    },
    {
     "name": "stdout",
     "output_type": "stream",
     "text": [
      "                     SKU     style   color  amount\n",
      "0      JNE2032-KR-205-XL   JNE2032   Black     301\n",
      "1             J0097-KR-M     J0097   Green     544\n",
      "2        JNE3440-KR-N-XS   JNE3440   Brown     422\n",
      "3            J0373-KR-XS     J0373  Purple     558\n",
      "4         SET324-KR-NP-S    SET324   Black     635\n",
      "...                  ...       ...     ...     ...\n",
      "37691        J0014-LCD-M     J0014  Purple       0\n",
      "37692        J0009-SKD-M     J0009   Black       0\n",
      "37693  PJNE2171-KR-N-5XL  PJNE2171     Red       0\n",
      "37694        J0012-SKD-L     J0012     Red       0\n",
      "37695      J0012-SKD-XXL     J0012   White       0\n",
      "\n",
      "[37696 rows x 4 columns]\n"
     ]
    }
   ],
   "source": [
    "myresult = pd.read_sql('SELECT s.SKU, P.style, P.color, s.amount FROM Sales_Fact_Table s JOIN Product_Dimension P ON s.SKU = P.SKU',conn)\n",
    "\n",
    "table=pd.DataFrame(myresult)\n",
    "table=table.reset_index(drop=True)\n",
    "pd.set_option('expand_frame_repr', False)\n",
    "print(table)\n"
   ]
  },
  {
   "cell_type": "markdown",
   "id": "47ea60d1-92d2-4685-b0bc-914220f548c5",
   "metadata": {},
   "source": [
    "#### Query 2"
   ]
  },
  {
   "cell_type": "code",
   "execution_count": null,
   "id": "c13d852c-bcd3-45e3-bc79-fea69fbb191c",
   "metadata": {},
   "outputs": [],
   "source": [
    "myresult = pd.read_sql(\"SELECT d.day, d.month, d.year FROM Sales_Fact_Table s JOIN Date_Dimension d ON s.Date = d.Date where order_Id= '171-9918163-5396330';\",conn)\n",
    "\n",
    "table=pd.DataFrame(myresult)\n",
    "table=table.reset_index(drop=True)\n",
    "pd.set_option('expand_frame_repr', False)\n",
    "print(table)"
   ]
  },
  {
   "cell_type": "markdown",
   "id": "f0668aef-a80d-4966-8873-b87182fc84ba",
   "metadata": {},
   "source": [
    "#### Query 3"
   ]
  },
  {
   "cell_type": "code",
   "execution_count": null,
   "id": "a14ecee4-5611-435f-83a8-825b96d0a77a",
   "metadata": {},
   "outputs": [],
   "source": [
    "myresult = pd.read_sql('Select s.order_Id, f.fulfilment, f.Courier_Status, s.Quantity from shipping_fact_table s join Fulfilment_Dimension_Table f on s.order_id=f.order_id',conn)\n",
    "\n",
    "table=pd.DataFrame(myresult)\n",
    "table=table.reset_index(drop=True)\n",
    "pd.set_option('expand_frame_repr', False)\n",
    "print(table)"
   ]
  },
  {
   "cell_type": "markdown",
   "id": "b8b8723c-b612-459c-9c94-942049a5c4d9",
   "metadata": {},
   "source": [
    "#### Query 4"
   ]
  },
  {
   "cell_type": "code",
   "execution_count": null,
   "id": "675a367c-550d-4229-9df3-ba5a7108a9f8",
   "metadata": {},
   "outputs": [],
   "source": [
    "myresult = pd.read_sql('Select s.order_id , l.ship_postal_code, l.ship_country, l.ship_state, l.ship_city from shipping_fact_table s join location_dimension_table l on s.Ship_postal_code = l.ship_postal_code',conn)\n",
    "\n",
    "table=pd.DataFrame(myresult)\n",
    "table=table.reset_index(drop=True)\n",
    "pd.set_option('expand_frame_repr', False)\n",
    "print(table)"
   ]
  },
  {
   "cell_type": "code",
   "execution_count": 104,
   "id": "9d0226e1-a84d-415c-81c7-a5f2947f465a",
   "metadata": {},
   "outputs": [],
   "source": [
    "cursor.close()\n",
    "conn.close()"
   ]
  },
  {
   "cell_type": "code",
   "execution_count": null,
   "id": "ce61e35d-bb39-4248-8a06-8ec586c6e12d",
   "metadata": {},
   "outputs": [],
   "source": []
  }
 ],
 "metadata": {
  "kernelspec": {
   "display_name": "Python 3 (ipykernel)",
   "language": "python",
   "name": "python3"
  },
  "language_info": {
   "codemirror_mode": {
    "name": "ipython",
    "version": 3
   },
   "file_extension": ".py",
   "mimetype": "text/x-python",
   "name": "python",
   "nbconvert_exporter": "python",
   "pygments_lexer": "ipython3",
   "version": "3.11.4"
  }
 },
 "nbformat": 4,
 "nbformat_minor": 5
}
