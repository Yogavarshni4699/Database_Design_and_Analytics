{
 "cells": [
  {
   "cell_type": "code",
   "execution_count": 1,
   "id": "09c59dd6",
   "metadata": {},
   "outputs": [],
   "source": [
    "from pandas import DataFrame\n",
    "from DATA225utils import make_connection, dataframe_query"
   ]
  },
  {
   "cell_type": "code",
   "execution_count": 2,
   "id": "ae965715",
   "metadata": {},
   "outputs": [],
   "source": [
    "def make_table(table, sql):\n",
    "    cursor_warehouse.execute(f\"DROP TABLE IF EXISTS {table}\")\n",
    "    cursor_warehouse.execute(sql)"
   ]
  },
  {
   "cell_type": "code",
   "execution_count": 3,
   "id": "6477bb94",
   "metadata": {},
   "outputs": [],
   "source": [
    "def display_table(table, order_by=''):\n",
    "    sql = f\"SELECT * FROM {table}\"\n",
    "    \n",
    "    if order_by != '':\n",
    "        sql = sql + \" ORDER BY \" + order_by\n",
    "        \n",
    "    _, df = dataframe_query(cursor, sql)    \n",
    "    return df"
   ]
  },
  {
   "cell_type": "code",
   "execution_count": 4,
   "id": "16452c06",
   "metadata": {},
   "outputs": [],
   "source": [
    "# conn = make_connection(config_file = 'Analytical_db.ini')\n",
    "# cursor = conn.cursor()\n",
    "conn = make_connection(config_file = 'techorcas_db.ini')\n",
    "cursor = conn.cursor()"
   ]
  },
  {
   "cell_type": "code",
   "execution_count": 5,
   "id": "7ff982f3",
   "metadata": {},
   "outputs": [],
   "source": [
    "conn_warehouse = make_connection(config_file = 'techorcas_wh.ini')\n",
    "cursor_warehouse = conn_warehouse.cursor()"
   ]
  },
  {
   "cell_type": "markdown",
   "id": "57126e8b",
   "metadata": {},
   "source": [
    "## Date Dimension Table"
   ]
  },
  {
   "cell_type": "code",
   "execution_count": 20,
   "id": "3d57db90-8401-448f-9960-c8cd2c1d148d",
   "metadata": {},
   "outputs": [],
   "source": [
    "#Dropping Churn_Customers table if already exists.\n",
    "cursor_warehouse.execute(\"DROP TABLE IF EXISTS Date_Dimension\")"
   ]
  },
  {
   "cell_type": "code",
   "execution_count": 21,
   "id": "21d1a258",
   "metadata": {},
   "outputs": [],
   "source": [
    "sql = ( \"\"\"\n",
    "        CREATE TABLE Date_Dimension\n",
    "        (   \n",
    "           \n",
    "            Date DATE ,\n",
    "            Day varchar(10),\n",
    "            Month varchar(10),\n",
    "            Year int,\n",
    "            Quarter varchar(10),\n",
    "            PRIMARY KEY (DATE)\n",
    "        )\n",
    "        \"\"\"\n",
    "      )\n",
    "\n",
    "cursor_warehouse.execute(sql)"
   ]
  },
  {
   "cell_type": "code",
   "execution_count": 22,
   "id": "4d819b87",
   "metadata": {},
   "outputs": [],
   "source": [
    "#Insert vales into Churn_Customers\n",
    "sql = ( \"\"\"\n",
    "        INSERT INTO Date_Dimension\n",
    "        VALUES (%s, %s, %s, %s, %s )\n",
    "        \"\"\"\n",
    "      )"
   ]
  },
  {
   "cell_type": "code",
   "execution_count": 23,
   "id": "d58ac402-a897-4a55-a530-de1ae6fadd72",
   "metadata": {},
   "outputs": [],
   "source": [
    "def transform(row):\n",
    "    if row[1] == 'NA':\n",
    "        row[1] = 0\n"
   ]
  },
  {
   "cell_type": "code",
   "execution_count": 24,
   "id": "7324858b-686e-4262-b662-24a4716ac28a",
   "metadata": {},
   "outputs": [],
   "source": [
    "import csv\n",
    "first = True\n",
    "i = 0\n",
    "\n",
    "with open(r'Date_Dimension_Table_Wh.csv', newline='') as csv_file:\n",
    "    data = csv.reader(csv_file, delimiter=',', quotechar='\"')\n",
    "    \n",
    "    for row in data:\n",
    "        if not first:\n",
    "            transform(row)\n",
    "            cursor_warehouse.execute(sql, row)\n",
    "\n",
    "            \n",
    "        first = False\n",
    "    \n",
    "conn_warehouse.commit()"
   ]
  },
  {
   "cell_type": "code",
   "execution_count": null,
   "id": "6120ae25-2b36-429a-afa5-0a9f62d9d1d4",
   "metadata": {},
   "outputs": [],
   "source": []
  },
  {
   "cell_type": "markdown",
   "id": "20d99db2",
   "metadata": {},
   "source": [
    "## Product Dimension Table"
   ]
  },
  {
   "cell_type": "code",
   "execution_count": 25,
   "id": "f18a9b42-251a-4864-b749-aeaab3fe70ea",
   "metadata": {},
   "outputs": [],
   "source": [
    "#Dropping Churn_Customers table if already exists.\n",
    "cursor_warehouse.execute(\"DROP TABLE IF EXISTS Product_Dimension\")"
   ]
  },
  {
   "cell_type": "code",
   "execution_count": 26,
   "id": "7223592d",
   "metadata": {},
   "outputs": [],
   "source": [
    "sql = ( \"\"\"\n",
    "        CREATE TABLE Product_Dimension\n",
    "        (   \n",
    "            SKU VARCHAR(150),\n",
    "            Style  VARCHAR(50),\n",
    "            color VARCHAR(50),\n",
    "            category VARCHAR(50),\n",
    "            size VARCHAR(10),\n",
    "            PRIMARY KEY (SKU)\n",
    "        )\n",
    "        \"\"\"\n",
    "      )\n",
    "\n",
    "make_table('Product_Dimension', sql)"
   ]
  },
  {
   "cell_type": "code",
   "execution_count": 27,
   "id": "80b4ff8c",
   "metadata": {},
   "outputs": [],
   "source": [
    "#Insert vales into Churn_Customers\n",
    "sql = ( \"\"\"\n",
    "        INSERT INTO Product_Dimension\n",
    "        VALUES (%s, %s, %s, %s, %s )\n",
    "        \"\"\"\n",
    "      )"
   ]
  },
  {
   "cell_type": "code",
   "execution_count": 28,
   "id": "5b23128c-493b-43e5-928a-7a979952ba86",
   "metadata": {},
   "outputs": [],
   "source": [
    "import csv\n",
    "first = True\n",
    "i = 0\n",
    "\n",
    "with open(r'Product_Dimensional_Table.csv', newline='') as csv_file:\n",
    "    data = csv.reader(csv_file, delimiter=',', quotechar='\"')\n",
    "    \n",
    "    for row in data:\n",
    "        if not first:\n",
    "            transform(row)\n",
    "            cursor_warehouse.execute(sql, row)\n",
    "\n",
    "            \n",
    "        first = False\n",
    "    \n",
    "conn_warehouse.commit()"
   ]
  },
  {
   "cell_type": "markdown",
   "id": "b3a92fe6",
   "metadata": {},
   "source": [
    "# \tLocation Dimension Table"
   ]
  },
  {
   "cell_type": "code",
   "execution_count": 29,
   "id": "0463ee57-cc4b-467d-9550-c1309d6541f2",
   "metadata": {},
   "outputs": [],
   "source": [
    "#Dropping Churn_Customers table if already exists.\n",
    "cursor_warehouse.execute(\"DROP TABLE IF EXISTS Location_Dimension_Table\")"
   ]
  },
  {
   "cell_type": "code",
   "execution_count": 30,
   "id": "027d1795",
   "metadata": {},
   "outputs": [],
   "source": [
    "sql = ( \"\"\"\n",
    "        CREATE TABLE Location_Dimension_Table\n",
    "        (   \n",
    "            ship_postal_code int,\n",
    "            ship_country VARCHAR(50),\n",
    "            ship_state VARCHAR(50),\n",
    "            ship_city VARCHAR(50),\n",
    "            PRIMARY KEY (ship_postal_code)\n",
    "        )\n",
    "        \"\"\"\n",
    "      )\n",
    "\n",
    "make_table('Location_Dimension_Table', sql)\n"
   ]
  },
  {
   "cell_type": "code",
   "execution_count": 31,
   "id": "7443f8b8",
   "metadata": {},
   "outputs": [],
   "source": [
    "#Insert vales into Churn_Customers\n",
    "sql = ( \"\"\"\n",
    "        INSERT INTO Location_Dimension_Table\n",
    "        VALUES (%s, %s, %s, %s )\n",
    "        \"\"\"\n",
    "      )"
   ]
  },
  {
   "cell_type": "code",
   "execution_count": 32,
   "id": "326b3e6f-da13-4ae9-89d1-af69dd85f398",
   "metadata": {},
   "outputs": [],
   "source": [
    "import csv\n",
    "first = True\n",
    "i = 0\n",
    "\n",
    "with open(r'Location_Dimension_Table.csv', newline='') as csv_file:\n",
    "    data = csv.reader(csv_file, delimiter=',', quotechar='\"')\n",
    "    \n",
    "    for row in data:\n",
    "        if not first:\n",
    "            transform(row)\n",
    "            cursor_warehouse.execute(sql, row)\n",
    "\n",
    "            \n",
    "        first = False\n",
    "    \n",
    "conn_warehouse.commit()"
   ]
  },
  {
   "cell_type": "markdown",
   "id": "a1f98e17",
   "metadata": {},
   "source": [
    "## \tFulfilment Dimension Table"
   ]
  },
  {
   "cell_type": "code",
   "execution_count": 33,
   "id": "cb7aa595-a662-4856-8bbe-c3974c9adeb9",
   "metadata": {},
   "outputs": [],
   "source": [
    "#Dropping Churn_Customers table if already exists.\n",
    "cursor_warehouse.execute(\"DROP TABLE IF EXISTS Fulfilment_Dimension_Table\")"
   ]
  },
  {
   "cell_type": "code",
   "execution_count": 34,
   "id": "810a07ea",
   "metadata": {},
   "outputs": [],
   "source": [
    "sql = ( \"\"\"\n",
    "        CREATE TABLE Fulfilment_Dimension_Table\n",
    "        (   \n",
    "Order_ID VARCHAR(150),\n",
    "ship_service_level VARCHAR(150),\n",
    "fulfilled_by VARCHAR(150),\n",
    "Sales_Channel VARCHAR(150),\n",
    "Fulfilment VARCHAR(150),\n",
    "promotion_ids VARCHAR(3000),\n",
    "Courier_Status VARCHAR(150),\n",
    "status VARCHAR(150),\n",
    "\n",
    "            PRIMARY KEY (Order_ID)\n",
    "        )\n",
    "        \"\"\"\n",
    "      )\n",
    "\n",
    "make_table('Fulfilment_Dimension_Table', sql)\n"
   ]
  },
  {
   "cell_type": "code",
   "execution_count": 35,
   "id": "779f0a4e",
   "metadata": {},
   "outputs": [],
   "source": [
    "#Insert vales into Churn_Customers\n",
    "sql = ( \"\"\"\n",
    "        INSERT INTO Fulfilment_Dimension_Table\n",
    "        VALUES (%s, %s, %s, %s , %s, %s, %s, %s)\n",
    "        \"\"\"\n",
    "      )"
   ]
  },
  {
   "cell_type": "code",
   "execution_count": 36,
   "id": "5c75acd0-7b88-459a-b4af-0a4e6f8957bc",
   "metadata": {},
   "outputs": [],
   "source": [
    "import csv\n",
    "first = True\n",
    "i = 0\n",
    "\n",
    "with open(r'Fulfilment_Dimension_Table - Copy.csv', newline='') as csv_file:\n",
    "    data = csv.reader(csv_file, delimiter=',', quotechar='\"')\n",
    "    \n",
    "    for row in data:\n",
    "        if not first:\n",
    "            transform(row)\n",
    "            cursor_warehouse.execute(sql, row)\n",
    "\n",
    "            \n",
    "        first = False\n",
    "    \n",
    "conn_warehouse.commit()"
   ]
  },
  {
   "cell_type": "markdown",
   "id": "0d16fd81-8e7c-4d20-96ec-4e832033b607",
   "metadata": {},
   "source": [
    "## Sales Fact Table"
   ]
  },
  {
   "cell_type": "code",
   "execution_count": 37,
   "id": "9bdaa10b-551d-49dc-9a77-d3fe781287e6",
   "metadata": {},
   "outputs": [],
   "source": [
    "#Dropping Churn_Customers table if already exists.\n",
    "cursor_warehouse.execute(\"DROP TABLE IF EXISTS Sales_Fact_Table\")"
   ]
  },
  {
   "cell_type": "code",
   "execution_count": 38,
   "id": "453ce608-b9fa-4273-b404-f7c9a4b30057",
   "metadata": {},
   "outputs": [],
   "source": [
    "sql = ( \"\"\"\n",
    "        CREATE TABLE Sales_Fact_Table\n",
    "        (   \n",
    "Order_ID VARCHAR(150),\n",
    "SKU VARCHAR(150),\n",
    "Date DATE ,\n",
    "Amount int,\n",
    "B2B VARCHAR(50),\n",
    "Inventory int NULL,\n",
    "PRIMARY KEY (Order_ID,sku)\n",
    "        )\n",
    "        \"\"\"\n",
    "      )\n",
    "\n",
    "make_table('Sales_Fact_Table', sql)\n"
   ]
  },
  {
   "cell_type": "code",
   "execution_count": 39,
   "id": "a1b1ddd9-4c31-4227-a71b-2114c91981b4",
   "metadata": {},
   "outputs": [],
   "source": [
    "#Insert vales into Churn_Customers\n",
    "sql = ( \"\"\"\n",
    "        INSERT INTO Sales_Fact_Table\n",
    "        VALUES (%s, %s, %s, %s , %s, %s)\n",
    "        \"\"\"\n",
    "      )"
   ]
  },
  {
   "cell_type": "code",
   "execution_count": 40,
   "id": "5374f19e-ee77-4e18-8eb8-48d1af23b848",
   "metadata": {},
   "outputs": [],
   "source": [
    "import csv\n",
    "first = True\n",
    "i = 0\n",
    "\n",
    "with open(r'Sales_Fact_Table.csv', newline='') as csv_file:\n",
    "    data = csv.reader(csv_file, delimiter=',', quotechar='\"')\n",
    "    \n",
    "    for row in data:\n",
    "        if not first:\n",
    "            transform(row)\n",
    "            cursor_warehouse.execute(sql, row)\n",
    "\n",
    "            \n",
    "        first = False\n",
    "    \n",
    "conn_warehouse.commit()"
   ]
  },
  {
   "cell_type": "markdown",
   "id": "09e4b50b-822c-48ea-bb21-ed6dc5f449df",
   "metadata": {},
   "source": [
    "## Shipping_Fact_Table"
   ]
  },
  {
   "cell_type": "code",
   "execution_count": 41,
   "id": "0aada367-0c5c-43f6-89dd-d647abf2b5ac",
   "metadata": {},
   "outputs": [],
   "source": [
    "\n",
    "#Dropping Churn_Customers table if already exists.\n",
    "cursor_warehouse.execute(\"DROP TABLE IF EXISTS Shipping_Fact_Table\")"
   ]
  },
  {
   "cell_type": "code",
   "execution_count": 42,
   "id": "99879016-54ad-45ae-9326-81a86a17eb15",
   "metadata": {},
   "outputs": [],
   "source": [
    "sql = ( \"\"\"\n",
    "        CREATE TABLE Shipping_Fact_Table\n",
    "        (   \n",
    "Order_ID VARCHAR(150),\t\n",
    "ship_postal_code int,\t\n",
    "Quantity int,\n",
    "\n",
    "PRIMARY KEY (Order_ID)\n",
    "        )\n",
    "        \"\"\"\n",
    "      )\n",
    "\n",
    "make_table('Shipping_Fact_Table', sql)\n"
   ]
  },
  {
   "cell_type": "code",
   "execution_count": 43,
   "id": "e54c072e-7597-4ebd-b450-2057c616ca35",
   "metadata": {},
   "outputs": [],
   "source": [
    "#Insert vales into Churn_Customers\n",
    "sql = ( \"\"\"\n",
    "        INSERT INTO Shipping_Fact_Table\n",
    "        VALUES (%s, %s, %s)\n",
    "        \"\"\"\n",
    "      )"
   ]
  },
  {
   "cell_type": "code",
   "execution_count": 44,
   "id": "a9c73f8c-0aac-40c2-bef6-da5d9bfed5a2",
   "metadata": {},
   "outputs": [],
   "source": [
    "import csv\n",
    "first = True\n",
    "i = 0\n",
    "\n",
    "with open(r'Shipping_Fact_Table.csv', newline='') as csv_file:\n",
    "    data = csv.reader(csv_file, delimiter=',', quotechar='\"')\n",
    "    \n",
    "    for row in data:\n",
    "        if not first:\n",
    "            transform(row)\n",
    "            cursor_warehouse.execute(sql, row)\n",
    "\n",
    "            \n",
    "        first = False\n",
    "    \n",
    "conn_warehouse.commit()"
   ]
  },
  {
   "cell_type": "markdown",
   "id": "d46e34f2-c8d2-448d-be54-2912361f104e",
   "metadata": {},
   "source": [
    "## Queries"
   ]
  },
  {
   "cell_type": "code",
   "execution_count": null,
   "id": "87d1be22-246f-40a8-a1f0-9616c74f4061",
   "metadata": {},
   "outputs": [],
   "source": [
    "import mysql.connector\n",
    "import pandas as pd"
   ]
  },
  {
   "cell_type": "markdown",
   "id": "63396b1b-9095-4e6b-8123-3e64c92dd04b",
   "metadata": {},
   "source": [
    "#### Query 1"
   ]
  },
  {
   "cell_type": "code",
   "execution_count": null,
   "id": "bdaf0356-af87-461f-be5e-fb6f216382a7",
   "metadata": {},
   "outputs": [],
   "source": [
    "myresult = pd.read_sql('SELECT s.SKU, P.style, P.color, s.amount FROM Sales_Fact_Table s JOIN Product_Dimension P ON s.SKU = P.SKU',conn)\n",
    "\n",
    "table=pd.DataFrame(myresult)\n",
    "table=table.reset_index(drop=True)\n",
    "pd.set_option('expand_frame_repr', False)\n",
    "print(table)\n"
   ]
  },
  {
   "cell_type": "markdown",
   "id": "47ea60d1-92d2-4685-b0bc-914220f548c5",
   "metadata": {},
   "source": [
    "#### Query 2"
   ]
  },
  {
   "cell_type": "code",
   "execution_count": null,
   "id": "c13d852c-bcd3-45e3-bc79-fea69fbb191c",
   "metadata": {},
   "outputs": [],
   "source": [
    "myresult = pd.read_sql(\"SELECT d.day, d.month, d.year FROM Sales_Fact_Table s JOIN Date_Dimension d ON s.Date = d.Date where order_Id= '171-9918163-5396330';\",conn)\n",
    "\n",
    "table=pd.DataFrame(myresult)\n",
    "table=table.reset_index(drop=True)\n",
    "pd.set_option('expand_frame_repr', False)\n",
    "print(table)"
   ]
  },
  {
   "cell_type": "markdown",
   "id": "f0668aef-a80d-4966-8873-b87182fc84ba",
   "metadata": {},
   "source": [
    "#### Query 3"
   ]
  },
  {
   "cell_type": "code",
   "execution_count": null,
   "id": "a14ecee4-5611-435f-83a8-825b96d0a77a",
   "metadata": {},
   "outputs": [],
   "source": [
    "myresult = pd.read_sql('Select s.order_Id, f.fulfilment, f.Courier_Status, s.Quantity from shipping_fact_table s join Fulfilment_Dimension_Table f on s.order_id=f.order_id',conn)\n",
    "\n",
    "table=pd.DataFrame(myresult)\n",
    "table=table.reset_index(drop=True)\n",
    "pd.set_option('expand_frame_repr', False)\n",
    "print(table)"
   ]
  },
  {
   "cell_type": "markdown",
   "id": "b8b8723c-b612-459c-9c94-942049a5c4d9",
   "metadata": {},
   "source": [
    "#### Query 4"
   ]
  },
  {
   "cell_type": "code",
   "execution_count": null,
   "id": "675a367c-550d-4229-9df3-ba5a7108a9f8",
   "metadata": {},
   "outputs": [],
   "source": [
    "myresult = pd.read_sql('Select s.order_id , l.ship_postal_code, l.ship_country, l.ship_state, l.ship_city from shipping_fact_table s join location_dimension_table l on s.Ship_postal_code = l.ship_postal_code',conn)\n",
    "\n",
    "table=pd.DataFrame(myresult)\n",
    "table=table.reset_index(drop=True)\n",
    "pd.set_option('expand_frame_repr', False)\n",
    "print(table)"
   ]
  },
  {
   "cell_type": "code",
   "execution_count": null,
   "id": "9d0226e1-a84d-415c-81c7-a5f2947f465a",
   "metadata": {},
   "outputs": [],
   "source": [
    "cursor.close()\n",
    "conn.close()"
   ]
  },
  {
   "cell_type": "code",
   "execution_count": null,
   "id": "ce61e35d-bb39-4248-8a06-8ec586c6e12d",
   "metadata": {},
   "outputs": [],
   "source": []
  }
 ],
 "metadata": {
  "kernelspec": {
   "display_name": "Python 3 (ipykernel)",
   "language": "python",
   "name": "python3"
  },
  "language_info": {
   "codemirror_mode": {
    "name": "ipython",
    "version": 3
   },
   "file_extension": ".py",
   "mimetype": "text/x-python",
   "name": "python",
   "nbconvert_exporter": "python",
   "pygments_lexer": "ipython3",
   "version": "3.11.4"
  }
 },
 "nbformat": 4,
 "nbformat_minor": 5
}
