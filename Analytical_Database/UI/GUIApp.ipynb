{
 "cells": [
  {
   "cell_type": "code",
   "execution_count": 1,
   "id": "92d53d6a-c56f-48cd-8dd4-e0dcb9243ff4",
   "metadata": {
    "scrolled": true
   },
   "outputs": [
    {
     "name": "stdout",
     "output_type": "stream",
     "text": [
      "WEEK(Date) = %s AND fulfilment = %s AND sales_channel = %s AND ship_service_level = %s\n",
      "\n",
      "        SELECT Date,\n",
      "            COUNT(DISTINCT Fulfilment_Dimension_Table.Order_ID) AS Orders_Count,\n",
      "            COUNT(DISTINCT Sales_Fact_Table.sku) AS sku_Count\n",
      "        FROM Fulfilment_Dimension_Table\n",
      "            join Sales_Fact_Table on Fulfilment_Dimension_Table.Order_ID=Sales_Fact_Table.Order_ID\n",
      "        WHERE WEEK(Date) = %s AND fulfilment = %s AND sales_channel = %s AND ship_service_level = %s\n",
      "        GROUP BY Date\n",
      "        ORDER BY Date\n",
      "        \n",
      "WEEK(Date) = %s AND fulfilment = %s AND sales_channel = %s AND ship_service_level = %s\n",
      "Week selected: 26\n",
      "WEEK(Date) = %s AND fulfilment = %s AND Date = %s AND Sales_Channel = %s AND ship_service_level = %s\n",
      "Category sentNone\n",
      "Week selected: 26\n",
      "WEEK(Date) = %s AND fulfilment = %s AND Date = %s AND Sales_Channel = %s AND ship_service_level = %s\n",
      "Category sentNone\n",
      "\n",
      "        SELECT s.Order_id, s.SKU, Date, Size, Color, Category, status, Inventory, Sales_Channel, ship_city, ship_state\n",
      "        FROM Product_Dimension AS p\n",
      "        JOIN Sales_Fact_Table AS s ON p.sku = s.sku\n",
      "        JOIN Fulfilment_Dimension_Table AS f ON f.Order_ID = s.Order_ID\n",
      "        JOIN Shipping_Fact_Table AS sh ON sh.Order_ID = s.Order_ID\n",
      "        JOIN Location_Dimension_Table AS l ON l.ship_postal_code = sh.ship_postal_code\n",
      "        WHERE WEEK(Date) = %s AND fulfilment = %s AND sales_channel = %s AND ship_service_level = %s\n",
      "        \n",
      "3669\n"
     ]
    },
    {
     "data": {
      "text/plain": [
       "0"
      ]
     },
     "execution_count": 1,
     "metadata": {},
     "output_type": "execute_result"
    }
   ],
   "source": [
    "import sys\n",
    "\n",
    "from PyQt5.QtWidgets import QApplication\n",
    "from AppWindow import AppWindow\n",
    "\n",
    "app = QApplication(sys.argv)\n",
    "form = AppWindow()\n",
    "app.exec_()"
   ]
  },
  {
   "cell_type": "code",
   "execution_count": null,
   "id": "12cacc43-7ebe-4369-b9d6-d4e11faee324",
   "metadata": {},
   "outputs": [],
   "source": [
    "pip install PyQt5 PyQtChart\n"
   ]
  },
  {
   "cell_type": "code",
   "execution_count": null,
   "id": "22df0f40-7417-48d7-a76c-38196afaf0b2",
   "metadata": {},
   "outputs": [],
   "source": []
  },
  {
   "cell_type": "code",
   "execution_count": null,
   "id": "bac169c7-0347-42ce-ac33-2d9403bd06de",
   "metadata": {},
   "outputs": [],
   "source": []
  }
 ],
 "metadata": {
  "kernelspec": {
   "display_name": "Python 3 (ipykernel)",
   "language": "python",
   "name": "python3"
  },
  "language_info": {
   "codemirror_mode": {
    "name": "ipython",
    "version": 3
   },
   "file_extension": ".py",
   "mimetype": "text/x-python",
   "name": "python",
   "nbconvert_exporter": "python",
   "pygments_lexer": "ipython3",
   "version": "3.11.4"
  }
 },
 "nbformat": 4,
 "nbformat_minor": 5
}
